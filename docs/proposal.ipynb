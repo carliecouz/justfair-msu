{
 "cells": [
  {
   "cell_type": "markdown",
   "metadata": {},
   "source": [
    "# <center>  JUSTFAIR: Procuring and Analyzing Michigan Judicial Data </center>\n",
    "\n",
    "<center>By Jaclyn Frishcosy, Alice Krupczak, Carlie Couzens, Tyus Walker</center>"
   ]
  },
  {
   "cell_type": "markdown",
   "metadata": {},
   "source": [
    "<img src=\"https://imgur.com/a/xfXkkOU\" width=\"20%\">\n",
    "\n",
    "Image created by Carlie Couzens for JUSTFAIR MSU"
   ]
  },
  {
   "cell_type": "markdown",
   "metadata": {},
   "source": [
    "---\n",
    "# Overview\n",
    "\n",
    "We will be collecting data from judicial decisions across the state of Michigan under the freedom of information act.  This data will include demographic information in order to make conclusions about potential bias in decision making. The conclusion hope for this project is to increase awareness and increase accountability on the judicial system when it comes to sentencing. Looking for bias in throughout the state gives in insight on areas to improve to make the judicial system equal and fair across the board. \n",
    "\n",
    "From the data collected we will be examining sentencing disparities in the judiciary; for example, are there differences in prison terms between BIPOC and white offenders for similar crimes. Our sources of data will come from the local and state government from the data through these sites. \n",
    "\n",
    "* https://www.courts.michigan.gov/case-search/\n",
    "* https://github.com/serenalotreck/msu-datathon-4-justice\n",
    "* https://journals.plos.org/plosone/article?id=10.1371/journal.pone.0241381#abstract0\n",
    "* https://qsideinstitute.org/research/criminal-justice/justfair/\n",
    "\n",
    "This was also done previously by Michigan State students with analyzing data from the Minnesota local and state government during a hackathon. Visualizations will be created to show the judicial disparities found through the state for sentencing of different crimes, race, areas of state.  "
   ]
  },
  {
   "cell_type": "markdown",
   "metadata": {},
   "source": [
    "---\n",
    "# Program Description\n",
    "\n",
    "Our project is multifaceted. The first facet of our project will primarily focus on the collection of Michigan’s judicial data. We hope to obtain a variety of data including judicial sentences by court, district, judge, defendant, and demographic data (race, ethnicity, gender, etc.) for defendants. We will also obtain sentencing code books and sentencing guidelines for the state of Michigan. To do this, we will build a web scraping tool using the Python package Beautifulsoup, which we will use to take the data from the Michigan Judicial Institute’s website and convert it to a csv file. Once done, we will clean the data so it is in a consistent and easy to work with format.\n",
    "\n",
    "After obtaining the data, we will analyze it using Python’s statistical libraries including pandas, scikit-learn, and statsmodel. Our software will look for associations between severity of sentences and demographic characteristics of defendants including race, gender, and income and compare sentences to the state’s guidelines. In addition to defendants, our software will look for associations between severity of sentences and characteristics of judges if we are able to obtain that data.\n",
    "\n",
    "As part of and to summarize our analysis, we will make data visualizations using Python’s matplotlib, as well as software like Tableau. Our software and visualizations will be able to be reproduced using similar data from other states.\n"
   ]
  },
  {
   "cell_type": "markdown",
   "metadata": {},
   "source": [
    "---\n",
    "# Project Goals Labor and Timeline\n",
    "\n",
    "We will use Jupyter Notebook as our IDE of choice to analyze the data we obtain. Preliminary code will include cleaning and reformatting the data; as the project progresses, code will consist of various machine learning algorithms and statistical analysis of the data.\n",
    "\n",
    "**Short-term goals:**\n",
    " - get Michigan judicial data from online source (https://www.courts.michigan.gov/case-search/) (Jaclyn and Alice)\n",
    " - build webscraper to obtain data if necessary using Beautifulsoup (Jaclyn and Alice)\n",
    " - begin cleaning and analyzing Minnesota data (Carlie and Tyus)\n",
    " \n",
    "**Mid-term goals:**\n",
    " - Close any remaining open loops\n",
    " - Finish analyzing Minnesota data (Carlie and Tyus)\n",
    " - Analyze Michigan data (All)\n",
    " - Identify machine learning methods that will be most useful for data analysis (All)\n",
    " \n",
    "**Long-term goals:**\n",
    " - Create a final report and presentation using Tableau and PowerPoint (All)"
   ]
  },
  {
   "cell_type": "markdown",
   "metadata": {},
   "source": [
    "---\n",
    "# Anticipating Challenges  \n",
    "\n",
    "**Skills Needed:**\n",
    " - Sharpen up Python data manipulation skills for cleaning / filtering / smoothing / etc. datasets\n",
    " - Sharpening Python skills for plotting and creating data visualizations\n",
    "\n",
    "**Learning New Things:**\n",
    " - Learning about the legal system / coming up to speed with legal definitions\n",
    " - Potentially learning how to build a bot for gathering/accumulating Michigan data\n",
    "  - Analyze the Minnesota data in the meantime\n",
    " - Potentially learning how to use another program for creating visualizations\n",
    " - Learning what information is crucial to this project and the people involved in order to properly display it\n",
    "\n",
    "**Potential Challenges:**\n",
    " - Data is not formatted well, lots of missing data, figuring out what data is relevant\n",
    "  - Data must be manipulated and cleaned / smoothed\n",
    " - MI data is not sent to us completed / in totality\n",
    "  - Use a web scraper to gather up all the data\n",
    " - How to use machine learning?\n",
    "  - Predicting case outcomes?\n",
    "  - Statistical methods to measure if race is an influential variable\n",
    "  - Unsupervised Clustering\n",
    " - Obtaining information about specific judges\n",
    "\n"
   ]
  },
  {
   "cell_type": "markdown",
   "metadata": {},
   "source": [
    "Written by JUSTFAIR MSU Team, Michigan State University\n",
    "<a rel=\"license\" href=\"http://creativecommons.org/licenses/by-nc/4.0/\"><img alt=\"Creative Commons License\" style=\"border-width:0\" src=\"https://i.creativecommons.org/l/by-nc/4.0/88x31.png\" /></a><br />This work is licensed under a <a rel=\"license\" href=\"http://creativecommons.org/licenses/by-nc/4.0/\">Creative Commons Attribution-NonCommercial 4.0 International License</a>."
   ]
  }
 ],
 "metadata": {
  "anaconda-cloud": {},
  "kernelspec": {
   "display_name": "Python 3 (ipykernel)",
   "language": "python",
   "name": "python3"
  },
  "language_info": {
   "codemirror_mode": {
    "name": "ipython",
    "version": 3
   },
   "file_extension": ".py",
   "mimetype": "text/x-python",
   "name": "python",
   "nbconvert_exporter": "python",
   "pygments_lexer": "ipython3",
   "version": "3.9.7"
  }
 },
 "nbformat": 4,
 "nbformat_minor": 1
}
