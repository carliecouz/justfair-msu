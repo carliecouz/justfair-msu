{
 "cells": [
  {
   "cell_type": "markdown",
   "id": "2ff11af0",
   "metadata": {},
   "source": [
    "# Figure Reproducibility\n",
    "   ### By: JUSTFAIR MSU"
   ]
  },
  {
   "cell_type": "markdown",
   "id": "67911946",
   "metadata": {},
   "source": [
    "[![Open in Collab](https://colab.research.google.com/assets/colab-badge.svg)](https://drive.google.com/file/d/1DpeLa_TFcN_-6rL9YbFAjZgeFttyvDAG/view?usp=sharing)"
   ]
  },
  {
   "cell_type": "markdown",
   "id": "0bb23873",
   "metadata": {},
   "source": [
    "## Description: "
   ]
  },
  {
   "cell_type": "markdown",
   "id": "e8e0a05e",
   "metadata": {},
   "source": [
    "This data is the data we were able to scrape from the Michigan Judicial Institute's Website, which includes data from Court of Appeals and the Michigan Supreme Court. Although we cannot answer questions about bias in sentencing with this data, it can tell us other things about Michigan judicial practices. This notebook contains information about a visualization representing the original court of Supreme Court and Court of Appeals cases in the state of Michigan. \n"
   ]
  },
  {
   "cell_type": "markdown",
   "id": "8b081dd1",
   "metadata": {},
   "source": [
    "## Instructions for Installations:\n",
    "You will need to make sure the following is installed:\n",
    "\n",
    "- pandas\n",
    "- matplotlib.pyplot\n",
    "- numpy\n",
    "\n",
    "If you do not already have these libraries downloaded, please run the cell below:"
   ]
  },
  {
   "cell_type": "code",
   "execution_count": 1,
   "id": "3d8f9fc0",
   "metadata": {},
   "outputs": [],
   "source": [
    "# Installs pandas\n",
    "! pip install pandas\n",
    "\n",
    "# Installs matplotlib\n",
    "! pip install matplotlib\n",
    "\n",
    "# Install numpy \n",
    "! pip install numpy"
   ]
  },
  {
   "cell_type": "markdown",
   "id": "15a01414",
   "metadata": {},
   "source": [
    "## Code to read in data:"
   ]
  },
  {
   "cell_type": "markdown",
   "id": "21cf139f",
   "metadata": {},
   "source": [
    "Because this dataset is spread across multiple files, they are read in separately and combined into one Pandas DataFrame."
   ]
  },
  {
   "cell_type": "code",
   "execution_count": 2,
   "id": "b5b8b1f5",
   "metadata": {},
   "outputs": [],
   "source": [
    "import pandas as pd\n",
    "import matplotlib.pyplot as plt\n",
    "import numpy as np"
   ]
  },
  {
   "cell_type": "code",
   "execution_count": 3,
   "id": "ef3e7c60",
   "metadata": {},
   "outputs": [
    {
     "data": {
      "text/html": [
       "<div>\n",
       "<style scoped>\n",
       "    .dataframe tbody tr th:only-of-type {\n",
       "        vertical-align: middle;\n",
       "    }\n",
       "\n",
       "    .dataframe tbody tr th {\n",
       "        vertical-align: top;\n",
       "    }\n",
       "\n",
       "    .dataframe thead th {\n",
       "        text-align: right;\n",
       "    }\n",
       "</style>\n",
       "<table border=\"1\" class=\"dataframe\">\n",
       "  <thead>\n",
       "    <tr style=\"text-align: right;\">\n",
       "      <th></th>\n",
       "      <th>findId</th>\n",
       "      <th>allParties</th>\n",
       "      <th>attorneys</th>\n",
       "      <th>barNumbers</th>\n",
       "      <th>caseLastUpdated</th>\n",
       "      <th>caseSearchUrl</th>\n",
       "      <th>caseTypes</th>\n",
       "      <th>consolidatedCases</th>\n",
       "      <th>courtOfAppealsCaseId</th>\n",
       "      <th>courtOfAppealsCaseNumber</th>\n",
       "      <th>...</th>\n",
       "      <th>message</th>\n",
       "      <th>publications</th>\n",
       "      <th>supremeCourtCaseId</th>\n",
       "      <th>supremeCourtCaseNumber</th>\n",
       "      <th>supremeCourtParties</th>\n",
       "      <th>supremeCourtPartyNames</th>\n",
       "      <th>supremeCourtStatus</th>\n",
       "      <th>supremeCourtOrderDockets</th>\n",
       "      <th>supremeCourtOrderDocketsWithDocuments</th>\n",
       "      <th>title</th>\n",
       "    </tr>\n",
       "  </thead>\n",
       "  <tbody>\n",
       "    <tr>\n",
       "      <th>0</th>\n",
       "      <td>case-details-159176</td>\n",
       "      <td>[PEOPLE OF MICHIGAN, HAYNES MAURICE JOHN, JONE...</td>\n",
       "      <td>[LEONARD ROBERT F-DISBARRED, SORDYL EUGENE E]</td>\n",
       "      <td>[16565, 20790]</td>\n",
       "      <td>None</td>\n",
       "      <td>/case-search/</td>\n",
       "      <td>[]</td>\n",
       "      <td>[]</td>\n",
       "      <td>1</td>\n",
       "      <td>1</td>\n",
       "      <td>...</td>\n",
       "      <td>None</td>\n",
       "      <td>[005 Mich App 641, 007 Mich App 91]</td>\n",
       "      <td>None</td>\n",
       "      <td>None</td>\n",
       "      <td>[]</td>\n",
       "      <td>[]</td>\n",
       "      <td>None</td>\n",
       "      <td>[]</td>\n",
       "      <td>[]</td>\n",
       "      <td>PEOPLE V MAURICE JOHN HAYNES</td>\n",
       "    </tr>\n",
       "    <tr>\n",
       "      <th>1</th>\n",
       "      <td>case-details-219989</td>\n",
       "      <td>[HOUGHS CARL E, MACKIE JOHN C COMMR]</td>\n",
       "      <td>[MIKESELL WILLARD L, KELLEY FRANK J]</td>\n",
       "      <td>[17712, 15818]</td>\n",
       "      <td>None</td>\n",
       "      <td>/case-search/</td>\n",
       "      <td>[]</td>\n",
       "      <td>[]</td>\n",
       "      <td>2</td>\n",
       "      <td>2</td>\n",
       "      <td>...</td>\n",
       "      <td>None</td>\n",
       "      <td>[001 Mich App 554]</td>\n",
       "      <td>None</td>\n",
       "      <td>None</td>\n",
       "      <td>[]</td>\n",
       "      <td>[]</td>\n",
       "      <td>None</td>\n",
       "      <td>[{'panel': None, 'comments': None, 'court': 1,...</td>\n",
       "      <td>[]</td>\n",
       "      <td>HOUGHS CARL E V MACKIE JOHN C</td>\n",
       "    </tr>\n",
       "    <tr>\n",
       "      <th>2</th>\n",
       "      <td>case-details-952</td>\n",
       "      <td>[ROSE EDWARD, CORPORATION SECUR COMM]</td>\n",
       "      <td>[LEVIN CHARLES L (RETIRED), KELLEY FRANK J]</td>\n",
       "      <td>[16600, 15818]</td>\n",
       "      <td>None</td>\n",
       "      <td>/case-search/</td>\n",
       "      <td>[]</td>\n",
       "      <td>[{'caseNumber': 5, 'caseUrl': '/c/courts/coa/c...</td>\n",
       "      <td>3</td>\n",
       "      <td>3</td>\n",
       "      <td>...</td>\n",
       "      <td>None</td>\n",
       "      <td>[]</td>\n",
       "      <td>None</td>\n",
       "      <td>None</td>\n",
       "      <td>[]</td>\n",
       "      <td>[]</td>\n",
       "      <td>None</td>\n",
       "      <td>[]</td>\n",
       "      <td>[]</td>\n",
       "      <td>ROSE EDWARD             V MICH CORP &amp; SECURITI...</td>\n",
       "    </tr>\n",
       "    <tr>\n",
       "      <th>3</th>\n",
       "      <td>case-details-953</td>\n",
       "      <td>[AUDREY HOMES INC, CORPORATION SECUR COMM]</td>\n",
       "      <td>[LEVIN CHARLES L (RETIRED), KELLEY FRANK J]</td>\n",
       "      <td>[16600, 15818]</td>\n",
       "      <td>None</td>\n",
       "      <td>/case-search/</td>\n",
       "      <td>[]</td>\n",
       "      <td>[]</td>\n",
       "      <td>4</td>\n",
       "      <td>4</td>\n",
       "      <td>...</td>\n",
       "      <td>None</td>\n",
       "      <td>[]</td>\n",
       "      <td>None</td>\n",
       "      <td>None</td>\n",
       "      <td>[]</td>\n",
       "      <td>[]</td>\n",
       "      <td>None</td>\n",
       "      <td>[]</td>\n",
       "      <td>[]</td>\n",
       "      <td>AUDREY HOMES INC        V MICH CORP &amp; SECURITI...</td>\n",
       "    </tr>\n",
       "    <tr>\n",
       "      <th>4</th>\n",
       "      <td>case-details-954</td>\n",
       "      <td>[]</td>\n",
       "      <td>[]</td>\n",
       "      <td>[]</td>\n",
       "      <td>None</td>\n",
       "      <td>/case-search/</td>\n",
       "      <td>[]</td>\n",
       "      <td>[{'caseNumber': 3, 'caseUrl': '/c/courts/coa/c...</td>\n",
       "      <td>5</td>\n",
       "      <td>5</td>\n",
       "      <td>...</td>\n",
       "      <td>None</td>\n",
       "      <td>[14 Mich App 330]</td>\n",
       "      <td>None</td>\n",
       "      <td>None</td>\n",
       "      <td>[]</td>\n",
       "      <td>[]</td>\n",
       "      <td>None</td>\n",
       "      <td>[]</td>\n",
       "      <td>[]</td>\n",
       "      <td>ROSE EDWARD             V MICH CORP &amp; SE</td>\n",
       "    </tr>\n",
       "  </tbody>\n",
       "</table>\n",
       "<p>5 rows × 38 columns</p>\n",
       "</div>"
      ],
      "text/plain": [
       "                findId                                         allParties  \\\n",
       "0  case-details-159176  [PEOPLE OF MICHIGAN, HAYNES MAURICE JOHN, JONE...   \n",
       "1  case-details-219989               [HOUGHS CARL E, MACKIE JOHN C COMMR]   \n",
       "2     case-details-952              [ROSE EDWARD, CORPORATION SECUR COMM]   \n",
       "3     case-details-953         [AUDREY HOMES INC, CORPORATION SECUR COMM]   \n",
       "4     case-details-954                                                 []   \n",
       "\n",
       "                                       attorneys      barNumbers  \\\n",
       "0  [LEONARD ROBERT F-DISBARRED, SORDYL EUGENE E]  [16565, 20790]   \n",
       "1           [MIKESELL WILLARD L, KELLEY FRANK J]  [17712, 15818]   \n",
       "2    [LEVIN CHARLES L (RETIRED), KELLEY FRANK J]  [16600, 15818]   \n",
       "3    [LEVIN CHARLES L (RETIRED), KELLEY FRANK J]  [16600, 15818]   \n",
       "4                                             []              []   \n",
       "\n",
       "  caseLastUpdated  caseSearchUrl caseTypes  \\\n",
       "0            None  /case-search/        []   \n",
       "1            None  /case-search/        []   \n",
       "2            None  /case-search/        []   \n",
       "3            None  /case-search/        []   \n",
       "4            None  /case-search/        []   \n",
       "\n",
       "                                   consolidatedCases courtOfAppealsCaseId  \\\n",
       "0                                                 []                    1   \n",
       "1                                                 []                    2   \n",
       "2  [{'caseNumber': 5, 'caseUrl': '/c/courts/coa/c...                    3   \n",
       "3                                                 []                    4   \n",
       "4  [{'caseNumber': 3, 'caseUrl': '/c/courts/coa/c...                    5   \n",
       "\n",
       "  courtOfAppealsCaseNumber  ... message                         publications  \\\n",
       "0                        1  ...    None  [005 Mich App 641, 007 Mich App 91]   \n",
       "1                        2  ...    None                   [001 Mich App 554]   \n",
       "2                        3  ...    None                                   []   \n",
       "3                        4  ...    None                                   []   \n",
       "4                        5  ...    None                    [14 Mich App 330]   \n",
       "\n",
       "  supremeCourtCaseId supremeCourtCaseNumber supremeCourtParties  \\\n",
       "0               None                   None                  []   \n",
       "1               None                   None                  []   \n",
       "2               None                   None                  []   \n",
       "3               None                   None                  []   \n",
       "4               None                   None                  []   \n",
       "\n",
       "  supremeCourtPartyNames supremeCourtStatus  \\\n",
       "0                     []               None   \n",
       "1                     []               None   \n",
       "2                     []               None   \n",
       "3                     []               None   \n",
       "4                     []               None   \n",
       "\n",
       "                            supremeCourtOrderDockets  \\\n",
       "0                                                 []   \n",
       "1  [{'panel': None, 'comments': None, 'court': 1,...   \n",
       "2                                                 []   \n",
       "3                                                 []   \n",
       "4                                                 []   \n",
       "\n",
       "  supremeCourtOrderDocketsWithDocuments  \\\n",
       "0                                    []   \n",
       "1                                    []   \n",
       "2                                    []   \n",
       "3                                    []   \n",
       "4                                    []   \n",
       "\n",
       "                                               title  \n",
       "0                       PEOPLE V MAURICE JOHN HAYNES  \n",
       "1                      HOUGHS CARL E V MACKIE JOHN C  \n",
       "2  ROSE EDWARD             V MICH CORP & SECURITI...  \n",
       "3  AUDREY HOMES INC        V MICH CORP & SECURITI...  \n",
       "4           ROSE EDWARD             V MICH CORP & SE  \n",
       "\n",
       "[5 rows x 38 columns]"
      ]
     },
     "execution_count": 3,
     "metadata": {},
     "output_type": "execute_result"
    }
   ],
   "source": [
    "min_case = 999\n",
    "max_case = 31499\n",
    "cases_per_file = 500\n",
    "\n",
    "cases = [case_no for case_no in range(min_case, max_case, cases_per_file)]\n",
    "\n",
    "df_list = []\n",
    "\n",
    "for case_no in cases:\n",
    "    file_path = f'CoA/court_of_appeals_case{case_no}.json'\n",
    "    try:\n",
    "        df = pd.read_json(file_path).T\n",
    "        df_list.append(df)\n",
    "    except:\n",
    "        continue\n",
    "    \n",
    "df = pd.concat(df_list, axis=0, ignore_index=True)\n",
    "df.head()"
   ]
  },
  {
   "cell_type": "markdown",
   "id": "771bd5fc",
   "metadata": {},
   "source": [
    "## Convert/Sort Data\n",
    "\n",
    "The code below converts the `filingDate` column to DateTime then sorts the dataframe by the corresponding date. The length of unique dates is found to determine the removal of an NA value when performing the group_by function. Thankfully, this data point was at the end of the dataset and could be easily indexed out. The group_by function is used to group the data by the `filingDate` unique values and returns the number of occurences for each date."
   ]
  },
  {
   "cell_type": "code",
   "execution_count": 16,
   "id": "d117d519",
   "metadata": {},
   "outputs": [],
   "source": [
    "df[\"filingDate\"] = pd.to_datetime(df[\"filingDate\"])"
   ]
  },
  {
   "cell_type": "code",
   "execution_count": 48,
   "id": "9df6fcb1",
   "metadata": {},
   "outputs": [],
   "source": [
    "df_time = df.sort_values(by=\"filingDate\")"
   ]
  },
  {
   "cell_type": "code",
   "execution_count": 85,
   "id": "82ed7660",
   "metadata": {},
   "outputs": [
    {
     "data": {
      "text/plain": [
       "3806"
      ]
     },
     "execution_count": 85,
     "metadata": {},
     "output_type": "execute_result"
    }
   ],
   "source": [
    "len(df_time[\"filingDate\"].unique())"
   ]
  },
  {
   "cell_type": "code",
   "execution_count": 50,
   "id": "9e561c9d",
   "metadata": {},
   "outputs": [
    {
     "data": {
      "text/plain": [
       "filingDate\n",
       "1961-07-05    1\n",
       "1961-10-21    3\n",
       "1962-08-07    1\n",
       "1962-08-13    1\n",
       "1962-09-28    1\n",
       "             ..\n",
       "1977-03-07    1\n",
       "1978-01-03    1\n",
       "1981-04-02    1\n",
       "1981-07-13    1\n",
       "1982-08-25    1\n",
       "Length: 3805, dtype: int64"
      ]
     },
     "execution_count": 50,
     "metadata": {},
     "output_type": "execute_result"
    }
   ],
   "source": [
    "filing_date = df_time.groupby([\"filingDate\"]).size()\n",
    "filing_date"
   ]
  },
  {
   "cell_type": "markdown",
   "id": "8edba7bd",
   "metadata": {},
   "source": [
    "## Plot the Data\n",
    "\n",
    "The filing dates are plotted with the number of occurences for each date in order to view the trend of number of court filings over time. Since not all of the data is present, it appears that there are very few filings after 1977."
   ]
  },
  {
   "cell_type": "code",
   "execution_count": 84,
   "id": "bdafda64",
   "metadata": {},
   "outputs": [
    {
     "data": {
      "text/plain": [
       "Text(0, 0.5, 'Number of Filings')"
      ]
     },
     "execution_count": 84,
     "metadata": {},
     "output_type": "execute_result"
    },
    {
     "data": {
      "image/png": "[encoded data removed]",
      "text/plain": [
       "<Figure size 1080x504 with 1 Axes>"
      ]
     },
     "metadata": {
      "needs_background": "light"
     },
     "output_type": "display_data"
    }
   ],
   "source": [
    "fig = plt.figure(figsize = (15, 7))\n",
    "plt.scatter(df_time[\"filingDate\"].unique()[:3805], filing_date, color=\"cornflowerblue\")\n",
    "plt.axvline(2550, color=\"tab:red\", alpha=0.6)\n",
    "plt.annotate('What happened around 1977?', xy=(4, 1),\n",
    "            xytext=(0.91, 0.6), textcoords='axes fraction',\n",
    "            horizontalalignment='right', verticalalignment='top',\n",
    "            )\n",
    "plt.title(\"Number of Court Filings per Day\")\n",
    "plt.xlabel(\"Date\")\n",
    "plt.ylabel(\"Number of Filings\")"
   ]
  },
  {
   "cell_type": "code",
   "execution_count": null,
   "id": "e17dcb8c",
   "metadata": {},
   "outputs": [],
   "source": []
  }
 ],
 "metadata": {
  "kernelspec": {
   "display_name": "Python 3 (ipykernel)",
   "language": "python",
   "name": "python3"
  },
  "language_info": {
   "codemirror_mode": {
    "name": "ipython",
    "version": 3
   },
   "file_extension": ".py",
   "mimetype": "text/x-python",
   "name": "python",
   "nbconvert_exporter": "python",
   "pygments_lexer": "ipython3",
   "version": "3.7.11"
  }
 },
 "nbformat": 4,
 "nbformat_minor": 5
}
