{
 "cells": [
  {
   "cell_type": "markdown",
   "id": "382f9379",
   "metadata": {},
   "source": [
    "# Team QSIDE: Final Report"
   ]
  },
  {
   "cell_type": "markdown",
   "id": "0b004f57",
   "metadata": {},
   "source": [
    "This is the final report of our project including summaries of the work we completed, loops we closed, and deliverables we delivered on. "
   ]
  },
  {
   "cell_type": "code",
   "execution_count": null,
   "id": "dae5a588",
   "metadata": {},
   "outputs": [],
   "source": []
  },
  {
   "cell_type": "markdown",
   "id": "f8c66dd8",
   "metadata": {},
   "source": [
    "# Webscraper"
   ]
  },
  {
   "cell_type": "markdown",
   "id": "b3dba221",
   "metadata": {},
   "source": [
    "The webscraper ..."
   ]
  },
  {
   "cell_type": "code",
   "execution_count": null,
   "id": "8acebd8e",
   "metadata": {},
   "outputs": [],
   "source": []
  },
  {
   "cell_type": "markdown",
   "id": "42c41883",
   "metadata": {},
   "source": [
    "# Webscraped Data"
   ]
  },
  {
   "cell_type": "markdown",
   "id": "3c3a1b3f",
   "metadata": {},
   "source": [
    "The webscraped data ..."
   ]
  },
  {
   "cell_type": "code",
   "execution_count": null,
   "id": "f8ed7bb3",
   "metadata": {},
   "outputs": [],
   "source": []
  },
  {
   "cell_type": "markdown",
   "id": "b5759647",
   "metadata": {},
   "source": [
    "# Minnesota Data"
   ]
  },
  {
   "cell_type": "markdown",
   "id": "da16d5a5",
   "metadata": {},
   "source": [
    "The Minnesota data ..."
   ]
  },
  {
   "cell_type": "code",
   "execution_count": null,
   "id": "c10b2859",
   "metadata": {},
   "outputs": [],
   "source": []
  },
  {
   "cell_type": "markdown",
   "id": "3a130ef7",
   "metadata": {},
   "source": [
    "# Predicting Demographics"
   ]
  },
  {
   "cell_type": "markdown",
   "id": "54db0745",
   "metadata": {},
   "source": [
    "Predicting demographics ..."
   ]
  },
  {
   "cell_type": "code",
   "execution_count": null,
   "id": "61a36220",
   "metadata": {},
   "outputs": [],
   "source": []
  },
  {
   "cell_type": "markdown",
   "id": "7d474146",
   "metadata": {},
   "source": [
    "# Making a FOIA Request"
   ]
  },
  {
   "cell_type": "markdown",
   "id": "0767ed47",
   "metadata": {},
   "source": [
    "Making a FOIA request ..."
   ]
  },
  {
   "cell_type": "code",
   "execution_count": null,
   "id": "9c576d81",
   "metadata": {},
   "outputs": [],
   "source": []
  },
  {
   "cell_type": "markdown",
   "id": "36f9acfa",
   "metadata": {},
   "source": [
    "# QSIDE Event Presentation"
   ]
  },
  {
   "cell_type": "markdown",
   "id": "1512a041",
   "metadata": {},
   "source": [
    "QSIDE event presentation ..."
   ]
  },
  {
   "cell_type": "code",
   "execution_count": null,
   "id": "be6c6218",
   "metadata": {},
   "outputs": [],
   "source": []
  },
  {
   "cell_type": "markdown",
   "id": "70777e51",
   "metadata": {},
   "source": [
    "# "
   ]
  }
 ],
 "metadata": {
  "kernelspec": {
   "display_name": "Python 3 (ipykernel)",
   "language": "python",
   "name": "python3"
  },
  "language_info": {
   "codemirror_mode": {
    "name": "ipython",
    "version": 3
   },
   "file_extension": ".py",
   "mimetype": "text/x-python",
   "name": "python",
   "nbconvert_exporter": "python",
   "pygments_lexer": "ipython3",
   "version": "3.7.11"
  }
 },
 "nbformat": 4,
 "nbformat_minor": 5
}
