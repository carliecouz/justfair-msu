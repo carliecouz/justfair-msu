{
 "cells": [
  {
   "cell_type": "code",
   "execution_count": 5,
   "id": "7fb740b4",
   "metadata": {},
   "outputs": [],
   "source": [
    "import json \n",
    "#import ssl\n",
    "from urllib.request import Request, urlopen\n",
    "import time\n",
    "import pandas as pd"
   ]
  },
  {
   "cell_type": "markdown",
   "id": "fd75e7c8",
   "metadata": {},
   "source": [
    "As of 2/24/22, the last case number is at the following site:\n",
    "\n",
    "https://www.courts.michigan.gov/c/courts/getcourtofappealscasedetaildata/360426"
   ]
  },
  {
   "cell_type": "code",
   "execution_count": 6,
   "id": "85f530d6",
   "metadata": {},
   "outputs": [],
   "source": [
    "data_dictionary = {}"
   ]
  },
  {
   "cell_type": "code",
   "execution_count": 7,
   "id": "93768481",
   "metadata": {},
   "outputs": [
    {
     "name": "stdout",
     "output_type": "stream",
     "text": [
      "Total Time: 208.39995387499948\n"
     ]
    }
   ],
   "source": [
    "start = time.perf_counter()\n",
    "for i in range(0, 500):\n",
    "    try:\n",
    "        url = \"https://www.courts.michigan.gov/c/courts/getcourtofappealscasedetaildata/\" + str(i)\n",
    "        req = Request(url, headers={'User-Agent': 'Mozilla/5.0'})\n",
    "        response = urlopen(req).read()\n",
    "        data = json.loads(response.decode('utf-8'))\n",
    "        data_dictionary[i] = data\n",
    "    except:\n",
    "        continue\n",
    "stop = time.perf_counter()\n",
    "print(\"Total Time:\", stop-start)\n",
    "\n",
    "file_name = f'court_of_appeals_case{1}-{500}.json'\n",
    "f = open(file_name, \"w\")\n",
    "json.dump(data_dictionary, f)\n",
    "f.close()"
   ]
  },
  {
   "cell_type": "code",
   "execution_count": null,
   "id": "6f6bf418",
   "metadata": {},
   "outputs": [],
   "source": [
    "df = pd.DataFrame(data_dictionary).T"
   ]
  }
 ],
 "metadata": {
  "kernelspec": {
   "display_name": "Python 3 (ipykernel)",
   "language": "python",
   "name": "python3"
  },
  "language_info": {
   "codemirror_mode": {
    "name": "ipython",
    "version": 3
   },
   "file_extension": ".py",
   "mimetype": "text/x-python",
   "name": "python",
   "nbconvert_exporter": "python",
   "pygments_lexer": "ipython3",
   "version": "3.9.7"
  }
 },
 "nbformat": 4,
 "nbformat_minor": 5
}
