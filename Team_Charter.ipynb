{
 "cells": [
  {
   "cell_type": "markdown",
   "id": "aea38f77",
   "metadata": {},
   "source": [
    "## JUSTFAIR Capstone Project\n",
    "## Team Charter"
   ]
  },
  {
   "cell_type": "markdown",
   "id": "31af1abf",
   "metadata": {},
   "source": [
    "### Members and Contact Information\n",
    "Carlie Couzens<br>\n",
    "Phone: 616 551 9163<br>\n",
    "Email: couzens2@msu.edu<br>\n",
    "\n",
    "Alice Krupczak<br>\n",
    "Phone: 616 566 2090<br>\n",
    "Email: krupczak@msu.edu<br>\n",
    "\n",
    "Jaclyn Frishcosy<br>\n",
    "Phone: 317 362 9573<br>\n",
    "Email: frishco2@msu.edu<br>\n",
    "\n",
    "Tyus Walker<br>\n",
    "Phone: 302 743 5322<br>\n",
    "Email: walke663@msu.edu<br>"
   ]
  },
  {
   "cell_type": "markdown",
   "id": "b221a4d9",
   "metadata": {},
   "source": [
    "Team Name:<br>\n",
    "JACT 🦾<br><br>\n",
    "\n",
    "Team Objectives: <br>\n",
    "Have fun! <br>\n",
    "Learn a lot <br>\n",
    "Create a working product <br><br>\n",
    "\n",
    "Team Scope:<br>\n",
    "Collecting and analyzing data in conjunction with JUSTFAIR.<br><br>\n",
    "\n",
    "Background, Boundaries:<br>\n",
    "Stay within the allotted meeting time<br>\n",
    "Stick to deadlines<br>\n",
    "Communicate personal timelines; don’t take on too much for one person<br><br>\n",
    "\n",
    "Team Strategy:<br>\n",
    "Dividing up work between team members who will work independently to complete tasks. If necessary, some tasks will be shared among team members to work on together.<br><br>\n",
    "\n",
    "Plans, Metrics:<br>\n",
    "Meet weekly to discuss progress and accomplishments. <br>\n",
    "Update Dirk and Jude as necessary but at minimum every other week.<br><br>\n",
    "\n",
    "Ground Rules:<br>\n",
    "Everyone’s opinion is important; listen to others.<br>\n",
    "Remember social anxiety; recognize the tendency to get off task (timekeeper is very important!)<br>\n",
    "Next meeting’s roles assigned at the end of each meeting.<br><br>\n",
    "\n",
    "Membership, Meetings, Reports:<br>\n",
    "Every Friday at 12:00 (subject to change).<br>\n",
    "Everyone should share their progress at each meeting.<br><br>\n",
    "\n",
    "Role Rotation:<br>\n",
    "Timekeeper → Notetaker → Leader/Facilitator → Loyal Participant → <br>\n",
    "\n",
    "Starting rotation:<br>\n",
    "Timekeeper: Carlie<br>\n",
    "Notetaker: Tyus<br>\n",
    "Facilitator: Jaclyn<br>\n",
    "Participant: Alice<br>\n"
   ]
  },
  {
   "cell_type": "code",
   "execution_count": null,
   "id": "e2c80e6a",
   "metadata": {},
   "outputs": [],
   "source": []
  }
 ],
 "metadata": {
  "kernelspec": {
   "display_name": "Python 3 (ipykernel)",
   "language": "python",
   "name": "python3"
  },
  "language_info": {
   "codemirror_mode": {
    "name": "ipython",
    "version": 3
   },
   "file_extension": ".py",
   "mimetype": "text/x-python",
   "name": "python",
   "nbconvert_exporter": "python",
   "pygments_lexer": "ipython3",
   "version": "3.9.7"
  }
 },
 "nbformat": 4,
 "nbformat_minor": 5
}
