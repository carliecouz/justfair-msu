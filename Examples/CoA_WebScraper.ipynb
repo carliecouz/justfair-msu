{
 "cells": [
  {
   "cell_type": "markdown",
   "metadata": {},
   "source": [
    "# Michigan Court of Appeals Web Scraper\n",
    "#### by JUSTFAIR MSU"
   ]
  },
  {
   "cell_type": "markdown",
   "metadata": {},
   "source": [
    "## Getting Started\n",
    "\n",
    "First, the Python libraries used in this Web Scraper must be installed on your computer. If Pandas is not already on your computer, please uncomment and run the cell below."
   ]
  },
  {
   "cell_type": "code",
   "execution_count": 5,
   "metadata": {},
   "outputs": [],
   "source": [
    "#!pip install pandas"
   ]
  },
  {
   "cell_type": "markdown",
   "metadata": {},
   "source": [
    "Next, import all libraries used in the web scraper as follows:"
   ]
  },
  {
   "cell_type": "code",
   "execution_count": 1,
   "metadata": {},
   "outputs": [],
   "source": [
    "from urllib.request import Request, urlopen\n",
    "import time\n",
    "import pandas as pd"
   ]
  },
  {
   "cell_type": "markdown",
   "metadata": {},
   "source": [
    "This web scraper was used to obtain the data from the [ Michigan Judicial Institute's website.](https://www.courts.michigan.gov/case-search/) The web scraper will loop through the indicated webpages, scrape the data, store it, and finally write it to a JSON file. "
   ]
  },
  {
   "cell_type": "markdown",
   "metadata": {},
   "source": [
    "## Customizations"
   ]
  },
  {
   "cell_type": "markdown",
   "metadata": {},
   "source": [
    "Indicate the number of cases to be scraped, and the number of cases to be stored in each file below. "
   ]
  },
  {
   "cell_type": "code",
   "execution_count": 6,
   "metadata": {},
   "outputs": [],
   "source": [
    "first_case = 0\n",
    "last_case = 360426 ## Last case number as of Februrary 22, 2022.\n",
    "\n",
    "cases_per_file = 1000"
   ]
  },
  {
   "cell_type": "markdown",
   "metadata": {},
   "source": [
    "## Web Scraper"
   ]
  },
  {
   "cell_type": "markdown",
   "metadata": {},
   "source": [
    "Loop through the pages containing information about the cases. Store the information as a Python Dictionary, and finally, write it to a JSON file. The files are saved intermittently, as well as stored in one file at the end in case the program is interrupted while still running. "
   ]
  },
  {
   "cell_type": "code",
   "execution_count": 3,
   "metadata": {
    "scrolled": true
   },
   "outputs": [
    {
     "name": "stdout",
     "output_type": "stream",
     "text": [
      "Total Time: 5.9579923750000034\n"
     ]
    }
   ],
   "source": [
    "data_dictionary = {}\n",
    "start = time.perf_counter()\n",
    "for i in range(first_case, last_case):\n",
    "    try:\n",
    "        #Update this url to scrape a different site. \n",
    "        url = \"https://www.courts.michigan.gov/c/courts/getcourtofappealscasedetaildata/\" + str(i)\n",
    "        req = Request(url, headers={'User-Agent': 'Mozilla/5.0'})\n",
    "        response = urlopen(req).read()\n",
    "        data = json.loads(response.decode('utf-8'))\n",
    "        data_dictionary[i] = data\n",
    "    except:\n",
    "        continue\n",
    "    if ((i+1) % cases_per_file == 0):\n",
    "        file_name = f'court_of_appeals_case{i}.json'\n",
    "        f = open(file_name, \"w\")\n",
    "        json.dump(data_dictionary, f)\n",
    "        f.close()\n",
    "        data_dictionary = {}\n",
    "    \n",
    "stop = time.perf_counter()\n",
    "print(\"Total Time:\", stop-start)\n",
    "\n",
    "file_name = f'court_of_appeals_case{i}.json'\n",
    "f = open(file_name, \"w\")\n",
    "json.dump(data_dictionary, f)\n",
    "f.close()"
   ]
  },
  {
   "cell_type": "markdown",
   "metadata": {},
   "source": [
    "The web scraped data is now stored in a JSON file in this directory."
   ]
  },
  {
   "cell_type": "markdown",
   "metadata": {},
   "source": [
    "Data obtained by this webscraper can be found [here.](https://drive.google.com/drive/u/1/folders/1ZxwCFalgMNYBaViKIJPSqbK_dHWC73SQ)"
   ]
  },
  {
   "cell_type": "markdown",
   "metadata": {},
   "source": [
    "### Acknowledgements"
   ]
  },
  {
   "cell_type": "markdown",
   "metadata": {},
   "source": [
    "Thank you to Emmett Krupczak for their assistance in writing this program."
   ]
  }
 ],
 "metadata": {
  "kernelspec": {
   "display_name": "Python 3 (ipykernel)",
   "language": "python",
   "name": "python3"
  },
  "language_info": {
   "codemirror_mode": {
    "name": "ipython",
    "version": 3
   },
   "file_extension": ".py",
   "mimetype": "text/x-python",
   "name": "python",
   "nbconvert_exporter": "python",
   "pygments_lexer": "ipython3",
   "version": "3.9.7"
  }
 },
 "nbformat": 4,
 "nbformat_minor": 2
}
