{
 "cells": [
  {
   "cell_type": "code",
   "execution_count": 1,
   "metadata": {},
   "outputs": [],
   "source": [
    "#!pip install pandas"
   ]
  },
  {
   "cell_type": "code",
   "execution_count": 2,
   "metadata": {},
   "outputs": [],
   "source": [
    "import json \n",
    "from urllib.request import Request, urlopen\n",
    "import time\n",
    "import pandas as pd"
   ]
  },
  {
   "cell_type": "code",
   "execution_count": null,
   "metadata": {},
   "outputs": [],
   "source": [
    "data_dictionary = {}\n",
    "start = time.perf_counter()\n",
    "for i in range(33000, 360426):\n",
    "    try:\n",
    "        url = \"https://www.courts.michigan.gov/c/courts/getcourtofappealscasedetaildata/\" + str(i)\n",
    "        req = Request(url, headers={'User-Agent': 'Mozilla/5.0'})\n",
    "        response = urlopen(req).read()\n",
    "        data = json.loads(response.decode('utf-8'))\n",
    "        data_dictionary[i] = data\n",
    "    except:\n",
    "        continue\n",
    "    if ((i+1) % 1000 == 0):\n",
    "        file_name = f'court_of_appeals_case{i}.json'\n",
    "        f = open(file_name, \"w\")\n",
    "        json.dump(data_dictionary, f)\n",
    "        f.close()\n",
    "        data_dictionary = {}\n",
    "    \n",
    "stop = time.perf_counter()\n",
    "print(\"Total Time:\", stop-start)\n",
    "\n",
    "file_name = f'court_of_appeals_case{i}.json'\n",
    "f = open(file_name, \"w\")\n",
    "json.dump(data_dictionary, f)\n",
    "f.close()"
   ]
  },
  {
   "cell_type": "code",
   "execution_count": null,
   "metadata": {},
   "outputs": [],
   "source": [
    "## Note: Some trouble getting 31500-33000"
   ]
  }
 ],
 "metadata": {
  "kernelspec": {
   "display_name": "Python 3 (ipykernel)",
   "language": "python",
   "name": "python3"
  },
  "language_info": {
   "codemirror_mode": {
    "name": "ipython",
    "version": 3
   },
   "file_extension": ".py",
   "mimetype": "text/x-python",
   "name": "python",
   "nbconvert_exporter": "python",
   "pygments_lexer": "ipython3",
   "version": "3.9.7"
  }
 },
 "nbformat": 4,
 "nbformat_minor": 2
}
